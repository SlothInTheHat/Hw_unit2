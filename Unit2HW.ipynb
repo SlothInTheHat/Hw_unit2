{
 "cells": [
  {
   "cell_type": "markdown",
   "metadata": {},
   "source": [
    "# Popcorn Hack 1"
   ]
  },
  {
   "cell_type": "code",
   "execution_count": 1,
   "metadata": {
    "vscode": {
     "languageId": "java"
    }
   },
   "outputs": [
    {
     "name": "stdout",
     "output_type": "stream",
     "text": [
      "Woof!\n"
     ]
    }
   ],
   "source": [
    "class Dog {\n",
    "    public String bark_noise_thing = \"Woof!\";\n",
    "    public String Name = \"\";\n",
    "    public String Breed = \"\";\n",
    "    public int Age = 0;\n",
    "\n",
    "    public void bark(){\n",
    "        System.out.println(bark_noise_thing);\n",
    "    }\n",
    "\n",
    "    public Dog(String n, String b, int a) {\n",
    "        this.bark_noise_thing = \"Woof!\";\n",
    "        this.Breed = b;\n",
    "        this.Name = n;\n",
    "        this.Age = a;\n",
    "    }\n",
    "}\n",
    "\n",
    "\n",
    "Dog myDog = new Dog(\"Shelby\", \"Golden Retriever\", 5); // name, breed, age\n",
    "myDog.bark(); // should print \"Woof!\"\n"
   ]
  },
  {
   "cell_type": "markdown",
   "metadata": {},
   "source": [
    "# Popcorn Hack 2"
   ]
  },
  {
   "cell_type": "code",
   "execution_count": 3,
   "metadata": {
    "vscode": {
     "languageId": "java"
    }
   },
   "outputs": [
    {
     "name": "stdout",
     "output_type": "stream",
     "text": [
      "shrek\n"
     ]
    }
   ],
   "source": [
    "class Movie {\n",
    "    public String title = \"shrek\";\n",
    "\n",
    "\n",
    "    public void printTitle(){\n",
    "        System.out.println(title);\n",
    "    }\n",
    "\n",
    "    public Movie(String n) {\n",
    "        this.title = n;\n",
    "    }\n",
    "}\n",
    "\n",
    "\n",
    "Movie myMovie = new Movie(\"shrek\");\n",
    "myMovie.printTitle();"
   ]
  },
  {
   "cell_type": "code",
   "execution_count": 12,
   "metadata": {
    "vscode": {
     "languageId": "java"
    }
   },
   "outputs": [
    {
     "name": "stdout",
     "output_type": "stream",
     "text": [
      "AUTOBOX ROLL OUT: 23\n",
      "UNBOXING: 3.14\n"
     ]
    }
   ],
   "source": [
    "public class Main {\n",
    "    public static void main(String[] args) {\n",
    "\n",
    "        // TODO: Create an Integer object using autoboxing\n",
    "        Integer intboy = 23;\n",
    "        // TODO: Create a double primitive from a Double object (unboxing)\n",
    "        Double doubleboy = 3.14;\n",
    "        double primitiveDoubleBoy = doubleboy;\n",
    "        \n",
    "        // TODO: Print both values\n",
    "        System.out.println(\"AUTOBOX ROLL OUT: \" + intboy);\n",
    "        System.out.println(\"UNBOXING: \" + primitiveDoubleBoy);\n",
    "\n",
    "    }\n",
    "}\n",
    "\n",
    "Main.main(null);"
   ]
  },
  {
   "cell_type": "markdown",
   "metadata": {},
   "source": [
    "# Practice hack for 2.4"
   ]
  },
  {
   "cell_type": "code",
   "execution_count": 13,
   "metadata": {
    "vscode": {
     "languageId": "java"
    }
   },
   "outputs": [
    {
     "name": "stdout",
     "output_type": "stream",
     "text": [
      "Random Number:77.44169518424226\n"
     ]
    }
   ],
   "source": [
    "import java.util.*;\n",
    "\n",
    "\n",
    "public class Main {\n",
    "    public double randomize(double a, double b) {\n",
    "\n",
    "        double min = Math.min(a, b);\n",
    "        double max = Math.max(a, b);\n",
    "\n",
    "        double randomNum = (Math.random() * (max - min)) + min;\n",
    "\n",
    "        return randomNum;\n",
    "    }\n",
    "\n",
    "    public static void main(String[] args) {\n",
    "        Scanner scan = new Scanner(System.in);\n",
    "        double a = scan.nextDouble();\n",
    "        double b = scan.nextDouble();\n",
    "\n",
    "        Main obj = new Main();\n",
    "        \n",
    "        System.out.println(\"Random Number:\" + obj.randomize(a, b));\n",
    "    }\n",
    "}\n",
    "\n",
    "Main.main(null);\n",
    "// The error will be returned below in the code cell"
   ]
  },
  {
   "cell_type": "markdown",
   "metadata": {},
   "source": [
    "# Homework Hack"
   ]
  },
  {
   "cell_type": "code",
   "execution_count": 15,
   "metadata": {
    "vscode": {
     "languageId": "java"
    }
   },
   "outputs": [
    {
     "name": "stdout",
     "output_type": "stream",
     "text": [
      "Circle 1:\n",
      "Radius: 5.0\n",
      "Circumference: 31.4159265\n",
      "Area: 78.53981625\n",
      "\n",
      "Circle 2:\n",
      "Radius: 7.0\n",
      "Circumference: 43.982297100000004\n",
      "Area: 153.93803985000002\n",
      "\n",
      "Student 1:\n",
      "Name: Aadit\n",
      "Name Length: 5\n",
      "Grade: 75.0\n",
      "Scaled Grade: 37.5\n",
      "\n",
      "Student 2:\n",
      "Name: Emily\n",
      "Name Length: 5\n",
      "Grade: 45.0\n",
      "Scaled Grade: 22.5\n"
     ]
    }
   ],
   "source": [
    "// Circle class\n",
    "public class Circle {\n",
    "    // 1. Class variable: radius (double)\n",
    "    double radius;\n",
    "\n",
    "    // 2. Constructor that takes in the radius as a parameter, and sets the radius property\n",
    "    public Circle(double rad) {\n",
    "        this.radius = rad;\n",
    "    }\n",
    "\n",
    "    // 3. circumference() method: Calculate and return the circumference\n",
    "    public double circumference() {\n",
    "        return 2 * 3.14159265 * radius;\n",
    "    }\n",
    "\n",
    "    // 4. area() method: Calculate and return the area, use Math.pow()\n",
    "    public double area() {\n",
    "        return 3.14159265 * Math.pow(radius, 2);\n",
    "    }\n",
    "}\n",
    "\n",
    "// Student class\n",
    "public class Student {\n",
    "    // 1. Class variables: name (String) and grade (Integer)\n",
    "    String name;\n",
    "    int grade;\n",
    "\n",
    "    // 2. Constructor to initialize name and grade\n",
    "    public Student(String n, int g) {\n",
    "        this.name = n;\n",
    "        this.grade = g;\n",
    "    }\n",
    "\n",
    "    // 3. nameLength() method: Return the length of the student's name\n",
    "    public int nameLength() {\n",
    "        return name.length();\n",
    "    }\n",
    "\n",
    "    // 4. getGradeAsDouble() method: Return the grade as the Double wrapper type\n",
    "    public Double getGradeAsDouble() {\n",
    "        return Double.valueOf(grade);\n",
    "    }\n",
    "\n",
    "    // 5. getScaledGrade() method: Return grade divided by 2\n",
    "    public double getScaledGrade() {\n",
    "        return grade / 2.0;\n",
    "    }\n",
    "}\n",
    "\n",
    "public class Main {\n",
    "    public static void main(String[] args) {\n",
    "        // Testing the Circle class\n",
    "        Circle circle1 = new Circle(5.0);\n",
    "        Circle circle2 = new Circle(7.0);\n",
    "\n",
    "        System.out.println(\"Circle 1:\");\n",
    "        System.out.println(\"Radius: \" + circle1.radius);\n",
    "        System.out.println(\"Circumference: \" + circle1.circumference());\n",
    "        System.out.println(\"Area: \" + circle1.area());\n",
    "\n",
    "        System.out.println(\"\\nCircle 2:\");\n",
    "        System.out.println(\"Radius: \" + circle2.radius);\n",
    "        System.out.println(\"Circumference: \" + circle2.circumference());\n",
    "        System.out.println(\"Area: \" + circle2.area());\n",
    "\n",
    "        // Testing the Student class\n",
    "        Student student1 = new Student(\"Aadit\", 75);\n",
    "        Student student2 = new Student(\"Emily\", 45);\n",
    "\n",
    "        System.out.println(\"\\nStudent 1:\");\n",
    "        System.out.println(\"Name: \" + student1.name);\n",
    "        System.out.println(\"Name Length: \" + student1.nameLength());\n",
    "        System.out.println(\"Grade: \" + student1.getGradeAsDouble());\n",
    "        System.out.println(\"Scaled Grade: \" + student1.getScaledGrade());\n",
    "\n",
    "        System.out.println(\"\\nStudent 2:\");\n",
    "        System.out.println(\"Name: \" + student2.name);\n",
    "        System.out.println(\"Name Length: \" + student2.nameLength());\n",
    "        System.out.println(\"Grade: \" + student2.getGradeAsDouble());\n",
    "        System.out.println(\"Scaled Grade: \" + student2.getScaledGrade());\n",
    "    }\n",
    "}\n",
    "\n",
    "Main.main(null);\n"
   ]
  }
 ],
 "metadata": {
  "kernelspec": {
   "display_name": "Java",
   "language": "java",
   "name": "java"
  },
  "language_info": {
   "codemirror_mode": "java",
   "file_extension": ".jshell",
   "mimetype": "text/x-java-source",
   "name": "Java",
   "pygments_lexer": "java",
   "version": "11.0.24+8-post-Ubuntu-1ubuntu322.04"
  }
 },
 "nbformat": 4,
 "nbformat_minor": 2
}
